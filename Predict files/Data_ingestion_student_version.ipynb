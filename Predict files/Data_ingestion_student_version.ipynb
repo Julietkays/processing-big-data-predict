{
 "cells": [
  {
   "cell_type": "markdown",
   "metadata": {},
   "source": [
    "# Processing Big Data - Data Ingestion\n",
    "© Explore Data Science Academy\n",
    "\n",
    "## Honour Code\n",
    "I {**Juliet**, **Kanyumbu**}, confirm - by submitting this document - that the solutions in this notebook are a result of my own work and that I abide by the [EDSA honour code](https://drive.google.com/file/d/1QDCjGZJ8-FmJE3bZdIQNwnJyQKPhHZBn/view?usp=sharing).\n",
    "    Non-compliance with the honour code constitutes a material breach of contract.\n",
    "\n",
    "\n",
    "\n",
    "## Context \n",
    "\n",
    "To work constructively with any dataset, one needs to create an ingestion profile to make sure that the data at the source can be readily consumed. For this section of the predict, as the Data Engineer in the team, you will be required to design and implement the ingestion process. For the purposes of the project the AWS cloud storage service, namely, the S3 bucket service will act as your data source. All the data required can be found [here](https://processing-big-data-predict-stocks-data.s3.eu-west-1.amazonaws.com/stocks.zip).\n",
    "\n",
    "<div align=\"center\" style=\"width: 600px; font-size: 80%; text-align: center; margin: 0 auto\">\n",
    "<img src=\"https://raw.githubusercontent.com/Explore-AI/Pictures/master/data_engineering/transform/predict/DataIngestion.jpg\"\n",
    "     alt=\"Data Ingestion\"\n",
    "     style=\"float: center; padding-bottom=0.5em\"\n",
    "     width=40%/>\n",
    "     <p><em>Figure 1. Data Ingestion</em></p>\n",
    "</div>\n",
    "\n",
    "Your manager, Gnissecorp Atadgib, knowing very well that you've recently completed your Data Engineering qualification, asks you to make use of Apache Spark for the ingestion as well as the rest of the project. His rationale being, that stock market data is generated every day and is quite time-sensitive and would require scalability when deploying to a production environment. \n",
    "\n",
    "## Dataset - US Nasdaq\n",
    "\n",
    "\n",
    "\n",
    "\n",
    "<div align=\"center\" style=\"width: 600px; font-size: 80%; text-align: center; margin: 0 auto\">\n",
    "<img src=\"https://raw.githubusercontent.com/Explore-AI/Pictures/master/data_engineering/transform/predict/Nasdaq.png\"\n",
    "     alt=\"Nasdaq\"\n",
    "     style=\"float: center; padding-bottom=0.5em\"\n",
    "     width=50%/>\n",
    "     <p><em>Figure 2. Nasdaq</em></p>\n",
    "</div>\n",
    "\n",
    "The data that you will be working with is a historical snapshot of market data taken from the Nasdaq electronic market. This dataset contains historical daily prices for all tickers currently trading on Nasdaq. The up-to-date list can be found on their [website](https://www.nasdaq.com/)\n",
    "\n",
    "\n",
    "The provided data contains price data dating back from 02 January 1962 up until 01 April 2020. The data found in the S3 bucket has been stored in the following structure:\n",
    "\n",
    "```\n",
    "     stocks/<Year>/<Month>/<Day>/stocks.csv\n",
    "```\n",
    "Each CSV file for every trading day contains the following details:\n",
    "- **Date** - specifies trading date\n",
    "- **Open** - opening price\n",
    "- **High** - maximum price during the day\n",
    "- **Low** - minimum price during the day\n",
    "- **Close** - close price adjusted for splits\n",
    "- **Adj Close** - close price adjusted for both dividends and splits\n",
    "- **Volume** - the number of shares that changed hands during a given day"
   ]
  },
  {
   "cell_type": "markdown",
   "metadata": {},
   "source": [
    "## Basic initialisation\n",
    "To get you started, let's import some basic Python libraries as well as Spark modules and functions."
   ]
  },
  {
   "cell_type": "code",
   "execution_count": 1,
   "metadata": {},
   "outputs": [
    {
     "ename": "ModuleNotFoundError",
     "evalue": "No module named 'pyspark'",
     "output_type": "error",
     "traceback": [
      "\u001b[1;31m---------------------------------------------------------------------------\u001b[0m",
      "\u001b[1;31mModuleNotFoundError\u001b[0m                       Traceback (most recent call last)",
      "\u001b[1;32m~\\AppData\\Local\\Temp/ipykernel_9120/1317508939.py\u001b[0m in \u001b[0;36m<module>\u001b[1;34m\u001b[0m\n\u001b[0;32m      4\u001b[0m \u001b[1;33m\u001b[0m\u001b[0m\n\u001b[0;32m      5\u001b[0m \u001b[1;33m\u001b[0m\u001b[0m\n\u001b[1;32m----> 6\u001b[1;33m \u001b[1;32mfrom\u001b[0m \u001b[0mpyspark\u001b[0m \u001b[1;32mimport\u001b[0m \u001b[0mSparkContext\u001b[0m\u001b[1;33m\u001b[0m\u001b[1;33m\u001b[0m\u001b[0m\n\u001b[0m\u001b[0;32m      7\u001b[0m \u001b[1;32mfrom\u001b[0m \u001b[0mpyspark\u001b[0m\u001b[1;33m.\u001b[0m\u001b[0msql\u001b[0m \u001b[1;32mimport\u001b[0m \u001b[0mSparkSession\u001b[0m\u001b[1;33m\u001b[0m\u001b[1;33m\u001b[0m\u001b[0m\n\u001b[0;32m      8\u001b[0m \u001b[1;32mfrom\u001b[0m \u001b[0mpyspark\u001b[0m\u001b[1;33m.\u001b[0m\u001b[0msql\u001b[0m \u001b[1;32mimport\u001b[0m \u001b[0mfunctions\u001b[0m \u001b[1;32mas\u001b[0m \u001b[0mF\u001b[0m\u001b[1;33m\u001b[0m\u001b[1;33m\u001b[0m\u001b[0m\n",
      "\u001b[1;31mModuleNotFoundError\u001b[0m: No module named 'pyspark'"
     ]
    }
   ],
   "source": [
    "import pandas as pd\n",
    "import numpy as np\n",
    "import matplotlib.pyplot as plt\n",
    "\n",
    "\n",
    "from pyspark import SparkContext\n",
    "from pyspark.sql import SparkSession\n",
    "from pyspark.sql import functions as F\n",
    "from pyspark.sql.types import *"
   ]
  },
  {
   "cell_type": "markdown",
   "metadata": {},
   "source": [
    "Remember that we need a `SparkContext` and `SparkSession` to interface with Spark.\n",
    "We will mostly be using the `SparkContext` to interact with RDDs and the `SparkSession` to interface with Python objects.\n",
    "\n",
    "> ℹ️ **Instructions** ℹ️\n",
    ">\n",
    ">Initialise a new **Spark Context** and **Session** that you will use to interface with Spark."
   ]
  },
  {
   "cell_type": "code",
   "execution_count": 4,
   "metadata": {},
   "outputs": [
    {
     "ename": "NameError",
     "evalue": "name 'SparkContext' is not defined",
     "output_type": "error",
     "traceback": [
      "\u001b[1;31m---------------------------------------------------------------------------\u001b[0m",
      "\u001b[1;31mNameError\u001b[0m                                 Traceback (most recent call last)",
      "\u001b[1;32m~\\AppData\\Local\\Temp/ipykernel_12920/2480533535.py\u001b[0m in \u001b[0;36m<module>\u001b[1;34m\u001b[0m\n\u001b[1;32m----> 1\u001b[1;33m \u001b[0msc\u001b[0m \u001b[1;33m=\u001b[0m \u001b[0mSparkContext\u001b[0m\u001b[1;33m(\u001b[0m\u001b[1;33m)\u001b[0m\u001b[1;33m\u001b[0m\u001b[1;33m\u001b[0m\u001b[0m\n\u001b[0m\u001b[0;32m      2\u001b[0m \u001b[0mspark\u001b[0m \u001b[1;33m=\u001b[0m \u001b[0mSparkSession\u001b[0m\u001b[1;33m(\u001b[0m\u001b[0msc\u001b[0m\u001b[1;33m)\u001b[0m\u001b[1;33m\u001b[0m\u001b[1;33m\u001b[0m\u001b[0m\n",
      "\u001b[1;31mNameError\u001b[0m: name 'SparkContext' is not defined"
     ]
    }
   ],
   "source": [
    "sc = SparkContext()\n",
    "spark = SparkSession(sc)"
   ]
  },
  {
   "cell_type": "code",
   "execution_count": null,
   "metadata": {},
   "outputs": [],
   "source": [
    "df = spark.read \\\n",
    "     .format('csv') \\\n",
    "     .option('header',\"True\") \\\n",
    "     .load('/Users/Juliet/Stocks/1962/*/*/stocks.csv')"
   ]
  },
  {
   "cell_type": "markdown",
   "metadata": {},
   "source": [
    "## Investigate dataset schema\n",
    "At this point, it is enough to read in a single file to ascertain the data structure. You will be required to use the information obtained from the small subset to create a data schema. This data schema will be used when reading the entire dataset using Spark.\n",
    "\n",
    "> ℹ️ **Instructions** ℹ️\n",
    ">\n",
    ">Make use of Pandas to read in a single file and investigate the plausible data types to be used when creating a Spark data schema. \n",
    ">\n",
    ">*You may use as many coding cells as necessary.*"
   ]
  },
  {
   "cell_type": "code",
   "execution_count": 2,
   "metadata": {},
   "outputs": [
    {
     "ename": "NameError",
     "evalue": "name 'df' is not defined",
     "output_type": "error",
     "traceback": [
      "\u001b[1;31m---------------------------------------------------------------------------\u001b[0m",
      "\u001b[1;31mNameError\u001b[0m                                 Traceback (most recent call last)",
      "\u001b[1;32m~\\AppData\\Local\\Temp/ipykernel_12920/2518340673.py\u001b[0m in \u001b[0;36m<module>\u001b[1;34m\u001b[0m\n\u001b[1;32m----> 1\u001b[1;33m \u001b[0mdf\u001b[0m\u001b[1;33m.\u001b[0m\u001b[0msummary\u001b[0m\u001b[1;33m(\u001b[0m\u001b[1;33m)\u001b[0m\u001b[1;33m\u001b[0m\u001b[1;33m\u001b[0m\u001b[0m\n\u001b[0m",
      "\u001b[1;31mNameError\u001b[0m: name 'df' is not defined"
     ]
    }
   ],
   "source": [
    "#df.summary()"
   ]
  },
  {
   "cell_type": "code",
   "execution_count": 3,
   "metadata": {},
   "outputs": [
    {
     "ename": "NameError",
     "evalue": "name 'spark' is not defined",
     "output_type": "error",
     "traceback": [
      "\u001b[1;31m---------------------------------------------------------------------------\u001b[0m",
      "\u001b[1;31mNameError\u001b[0m                                 Traceback (most recent call last)",
      "\u001b[1;32m~\\AppData\\Local\\Temp/ipykernel_12920/568326776.py\u001b[0m in \u001b[0;36m<module>\u001b[1;34m\u001b[0m\n\u001b[0;32m      1\u001b[0m \u001b[1;31m#TODO: Write your code here\u001b[0m\u001b[1;33m\u001b[0m\u001b[1;33m\u001b[0m\u001b[0m\n\u001b[1;32m----> 2\u001b[1;33m \u001b[0mdf\u001b[0m \u001b[1;33m=\u001b[0m \u001b[0mspark\u001b[0m\u001b[1;33m.\u001b[0m\u001b[0mread\u001b[0m\u001b[1;33m.\u001b[0m\u001b[0mcsv\u001b[0m\u001b[1;33m(\u001b[0m\u001b[1;34m'/Users/Juliet/Stocks/1962/*/*/stocks.csv'\u001b[0m\u001b[1;33m,\u001b[0m \u001b[0mheader\u001b[0m\u001b[1;33m=\u001b[0m\u001b[1;32mTrue\u001b[0m\u001b[1;33m)\u001b[0m\u001b[1;33m\u001b[0m\u001b[1;33m\u001b[0m\u001b[0m\n\u001b[0m\u001b[0;32m      3\u001b[0m \u001b[0mdf\u001b[0m\u001b[1;33m.\u001b[0m\u001b[0mshow\u001b[0m\u001b[1;33m(\u001b[0m\u001b[1;36m5\u001b[0m\u001b[1;33m,\u001b[0m \u001b[0mtruncate\u001b[0m\u001b[1;33m=\u001b[0m\u001b[1;32mFalse\u001b[0m\u001b[1;33m)\u001b[0m\u001b[1;33m\u001b[0m\u001b[1;33m\u001b[0m\u001b[0m\n",
      "\u001b[1;31mNameError\u001b[0m: name 'spark' is not defined"
     ]
    }
   ],
   "source": [
    "#TODO: Write your code here\n",
    "df = spark.read.csv('/Users/Juliet/Stocks/1962/*/*/stocks.csv', header=True)\n",
    "df.show(5, truncate=False)"
   ]
  },
  {
   "cell_type": "code",
   "execution_count": null,
   "metadata": {},
   "outputs": [],
   "source": [
    "#df_desc = df.describe()\n",
    "#df_desc.show(5, False)"
   ]
  },
  {
   "cell_type": "code",
   "execution_count": null,
   "metadata": {},
   "outputs": [],
   "source": [
    "#df.dtypes"
   ]
  },
  {
   "cell_type": "code",
   "execution_count": null,
   "metadata": {},
   "outputs": [],
   "source": [
    "#df.printSchema()"
   ]
  },
  {
   "cell_type": "markdown",
   "metadata": {},
   "source": [
    "## Read CSV files\n",
    "\n",
    "When working with big data, it is often not tenable to keep processing an entire data batch when you are in the process of development - this can be quite time-consuming. If the data is uniform, it is sufficient to work with a smaller subset to create basic functionality. Your manager has identified the year **1962** to perform the initial testing for data ingestion. \n",
    "\n",
    "> ℹ️ **Instructions** ℹ️\n",
    ">\n",
    ">Read in the data for **1962** using a data schema that purely uses string data types. You will be required to convert to the appropriate data types at a later stage.\n",
    ">\n",
    ">*You may use as many coding cells as necessary.*"
   ]
  },
  {
   "cell_type": "code",
   "execution_count": 8,
   "metadata": {},
   "outputs": [
    {
     "name": "stdout",
     "output_type": "stream",
     "text": [
      "+----------+------------------+------------------+------------------+------------------+-------------------+--------+-----+\n",
      "|Date      |Open              |High              |Low               |Close             |Adj Close          |Volume  |Stock|\n",
      "+----------+------------------+------------------+------------------+------------------+-------------------+--------+-----+\n",
      "|1962-01-02|6.5321550369262695|6.556184768676758 |6.5321550369262695|6.5321550369262695|1.5366575717926023 |55900.0 |AA   |\n",
      "|1962-01-02|6.125843524932861 |6.160982131958008 |6.125843524932861 |6.125843524932861 |1.4146506786346436 |59700.0 |ARNC |\n",
      "|1962-01-02|0.8374485373497009|0.8374485373497009|0.8230452537536621|0.8230452537536621|0.1457476019859314 |352200.0|BA   |\n",
      "|1962-01-02|1.6041666269302368|1.6197916269302368|1.5885416269302368|1.6041666269302368|0.13695742189884186|163200.0|CAT  |\n",
      "|1962-01-02|0.0               |3.2961308956146236|3.2440476417541504|3.2961308956146236|0.0519925132393837 |105600.0|CVX  |\n",
      "+----------+------------------+------------------+------------------+------------------+-------------------+--------+-----+\n",
      "only showing top 5 rows\n",
      "\n"
     ]
    }
   ],
   "source": [
    "from pyspark.sql.types import StringType, StructType, StructField, IntegerType, FloatType\n",
    "\n",
    "schema = StructType([\n",
    "     StructField(\"Date\", StringType(), True),\n",
    "     StructField(\"Open\", StringType(), True),\n",
    "     StructField(\"High\", StringType(), True),\n",
    "     StructField(\"Low\", StringType(), True),\n",
    "     StructField(\"Close\", StringType(), True),\n",
    "     StructField(\"Adj Close\", StringType(), True),\n",
    "     StructField(\"Volume\", StringType(), True),\n",
    "     StructField(\"Stock\", StringType(), True)\n",
    "])\n",
    "\n",
    "\n",
    "\n",
    "df = spark.read.csv('/Users/Juliet/Stocks/1962/*/*/stocks.csv', header=True, schema=schema, multiLine=True)\n",
    "df.show(5, truncate=False)"
   ]
  },
  {
   "cell_type": "markdown",
   "metadata": {},
   "source": [
    "## Update column names\n",
    "To make the data easier to work with, you will need to make a few changes:\n",
    "1. Column headers should all be in lowercase; and\n",
    "2. Whitespaces should be replaced with underscores.\n",
    "\n",
    "\n",
    "> ℹ️ **Instructions** ℹ️\n",
    ">\n",
    ">Make sure that the column headers are all in lowercase and that any whitespaces are replaced with underscores.\n",
    ">\n",
    ">*You may use as many coding cells as necessary.*"
   ]
  },
  {
   "cell_type": "code",
   "execution_count": 9,
   "metadata": {},
   "outputs": [],
   "source": [
    "#TODO: Write your code here\n",
    "from pyspark.sql import functions as F"
   ]
  },
  {
   "cell_type": "code",
   "execution_count": 10,
   "metadata": {},
   "outputs": [
    {
     "name": "stdout",
     "output_type": "stream",
     "text": [
      "+----------+------------------+------------------+------------------+------------------+-------------------+--------+-----+\n",
      "|      date|              open|              high|               low|             close|          adj_close|  volume|stock|\n",
      "+----------+------------------+------------------+------------------+------------------+-------------------+--------+-----+\n",
      "|1962-01-02|6.5321550369262695| 6.556184768676758|6.5321550369262695|6.5321550369262695| 1.5366575717926023| 55900.0|   AA|\n",
      "|1962-01-02| 6.125843524932861| 6.160982131958008| 6.125843524932861| 6.125843524932861| 1.4146506786346436| 59700.0| ARNC|\n",
      "|1962-01-02|0.8374485373497009|0.8374485373497009|0.8230452537536621|0.8230452537536621| 0.1457476019859314|352200.0|   BA|\n",
      "|1962-01-02|1.6041666269302368|1.6197916269302368|1.5885416269302368|1.6041666269302368|0.13695742189884186|163200.0|  CAT|\n",
      "|1962-01-02|               0.0|3.2961308956146236|3.2440476417541504|3.2961308956146236| 0.0519925132393837|105600.0|  CVX|\n",
      "+----------+------------------+------------------+------------------+------------------+-------------------+--------+-----+\n",
      "only showing top 5 rows\n",
      "\n"
     ]
    }
   ],
   "source": [
    "for column in df.columns:\n",
    "    df = df.withColumnRenamed(column, '_'.join(column.split()).lower())\n",
    "# Display our results.\n",
    "df.show(5)"
   ]
  },
  {
   "cell_type": "markdown",
   "metadata": {},
   "source": [
    "## Null Values\n",
    "Null values often represent missing pieces of data. It is always good to know where your null values lie - so you can quickly identify and remedy any issues stemming from these.\n",
    "\n",
    "> ℹ️ **Instructions** ℹ️\n",
    ">\n",
    ">Write code to count the number of null values found in each column.\n",
    ">\n",
    ">*You may use as many coding cells as necessary.*"
   ]
  },
  {
   "cell_type": "code",
   "execution_count": 11,
   "metadata": {},
   "outputs": [
    {
     "name": "stdout",
     "output_type": "stream",
     "text": [
      "+----+----+----+---+-----+---------+------+-----+\n",
      "|date|open|high|low|close|adj_close|volume|stock|\n",
      "+----+----+----+---+-----+---------+------+-----+\n",
      "|   0|  12|   1|  1|    1|        8|    20|    0|\n",
      "+----+----+----+---+-----+---------+------+-----+\n",
      "\n"
     ]
    }
   ],
   "source": [
    "#TODO: Write your code here\n",
    "from pyspark.sql.functions import col,isnan, when, count\n",
    "df.select([count(when(col(c).contains('0.0'), c)).alias(c) for c in df.columns]\n",
    "   ).show()"
   ]
  },
  {
   "cell_type": "markdown",
   "metadata": {},
   "source": [
    "## Data type conversion - The final data schema\n",
    "\n",
    "Now that we have identified the number of missing values in the data set, we'll move on to convert our data schema to the required data types. \n",
    "\n",
    "> ℹ️ **Instructions** ℹ️\n",
    ">\n",
    ">Use typecasting to convert the string data types in your current data schema to more appropriate data types.\n",
    ">\n",
    ">*You may use as many coding cells as necessary.*"
   ]
  },
  {
   "cell_type": "code",
   "execution_count": 24,
   "metadata": {},
   "outputs": [
    {
     "name": "stdout",
     "output_type": "stream",
     "text": [
      "root\n",
      " |-- date: date (nullable = true)\n",
      " |-- open: float (nullable = true)\n",
      " |-- high: float (nullable = true)\n",
      " |-- low: float (nullable = true)\n",
      " |-- close: float (nullable = true)\n",
      " |-- adj_close: float (nullable = true)\n",
      " |-- volume: float (nullable = true)\n",
      " |-- stock: float (nullable = true)\n",
      "\n"
     ]
    }
   ],
   "source": [
    "#TODO: Write your code here\n",
    "from pyspark.sql.types import IntegerType,BooleanType,DateType,StringType,FloatType\n",
    "df2=df.withColumn(\"date\",df.date.cast(DateType())) \\\n",
    ".withColumn(\"open\",df.open.cast(FloatType())) \\\n",
    ".withColumn(\"high\",df.high.cast(FloatType())) \\\n",
    ".withColumn(\"low\",df.low.cast(FloatType())) \\\n",
    ".withColumn(\"close\",df.close.cast(FloatType())) \\\n",
    ".withColumn(\"adj_close\",df.adj_close.cast(FloatType())) \\\n",
    ".withColumn(\"volume\",df.volume.cast(FloatType())) \\\n",
    ".withColumn(\"stock\",df.stock.cast(FloatType()))\n",
    "df2.printSchema()"
   ]
  },
  {
   "cell_type": "code",
   "execution_count": 33,
   "metadata": {},
   "outputs": [],
   "source": [
    "#df3=df[\"date\"].cast(DateType()) \\\n"
   ]
  },
  {
   "cell_type": "markdown",
   "metadata": {},
   "source": [
    "## Consolidate missing values\n",
    "We have to check if the data type conversion above was done correctly.\n",
    "If the casting was not successful, a null value gets inserted into the dataframe. You can thus check for successful conversion by determining if any null values are included in the resulting dataframe.\n",
    "\n",
    "\n",
    "> ℹ️ **Instructions** ℹ️\n",
    ">\n",
    ">Write code to compare the number of invalid entries (nulls) pre-conversion and post-conversion.\n",
    ">\n",
    ">*You may use as many coding cells as necessary.*"
   ]
  },
  {
   "cell_type": "code",
   "execution_count": 29,
   "metadata": {},
   "outputs": [
    {
     "name": "stdout",
     "output_type": "stream",
     "text": [
      "+----+----+----+---+-----+---------+------+-----+\n",
      "|date|open|high|low|close|adj_close|volume|stock|\n",
      "+----+----+----+---+-----+---------+------+-----+\n",
      "|   0|  12|   1|  1|    1|        8|    20|    0|\n",
      "+----+----+----+---+-----+---------+------+-----+\n",
      "\n",
      "+----+----+----+---+-----+---------+------+-----+\n",
      "|date|open|high|low|close|adj_close|volume|stock|\n",
      "+----+----+----+---+-----+---------+------+-----+\n",
      "|   0|  12|   1|  1|    1|        7|    20|    0|\n",
      "+----+----+----+---+-----+---------+------+-----+\n",
      "\n"
     ]
    }
   ],
   "source": [
    "#TODO: Write your code here\n",
    "df.select([count(when(col(c).contains('0.0'), c)).alias(c) for c in df.columns]\n",
    "   ).show()\n",
    "df2.select([count(when(col(c).contains('0.0'), c)).alias(c) for c in df.columns]\n",
    "   ).show()"
   ]
  },
  {
   "cell_type": "markdown",
   "metadata": {},
   "source": [
    "Here you should be able to see if any of your casts went wrong. \n",
    "Do not attempt to correct any missing values at this point. This will be dealt with in later sections of the predict."
   ]
  },
  {
   "cell_type": "markdown",
   "metadata": {},
   "source": [
    "## Generate parquet files\n",
    "When writing in Spark, we typically use parquet format. This format allows parallel writing using Spark's optimisation while maintaining other useful things like metadata.\n",
    "\n",
    "When writing, it is good to make sure that the data is sufficiently partitioned. \n",
    "\n",
    "Generally, data should be partitioned with one partition for every 200MB of data, but this also depends on the size of your cluster and executors. \n"
   ]
  },
  {
   "cell_type": "markdown",
   "metadata": {},
   "source": [
    "### Check the size of the dataframe before partitioning"
   ]
  },
  {
   "cell_type": "code",
   "execution_count": 30,
   "metadata": {},
   "outputs": [],
   "source": [
    "from pyspark.serializers import PickleSerializer, AutoBatchedSerializer"
   ]
  },
  {
   "cell_type": "code",
   "execution_count": 38,
   "metadata": {},
   "outputs": [
    {
     "name": "stdout",
     "output_type": "stream",
     "text": [
      "The dataframe is 7.842848 MB\n"
     ]
    }
   ],
   "source": [
    "rdd = df2.rdd._reserialize(AutoBatchedSerializer(PickleSerializer()))\n",
    "obj = rdd.ctx._jvm.org.apache.spark.mllib.api.python.SerDe.pythonToJava(rdd._jrdd, True)\n",
    "size = sc._jvm.org.apache.spark.util.SizeEstimator.estimate(obj)\n",
    "size_MB = size/1000000\n",
    "partitions = max(int(size_MB/200), 2)\n",
    "print(f'The dataframe is {size_MB} MB')"
   ]
  },
  {
   "cell_type": "markdown",
   "metadata": {},
   "source": [
    "### Write parquet files to the local directory\n",
    "> ℹ️ **Instructions** ℹ️\n",
    ">\n",
    "> Use the **coalesce** function and the number of **partitions** derived above to write parquet files to your local directory \n",
    ">\n",
    ">*You may use as many coding cells as necessary.*"
   ]
  },
  {
   "cell_type": "code",
   "execution_count": null,
   "metadata": {},
   "outputs": [],
   "source": [
    "#TODO: Write your code here\n"
   ]
  }
 ],
 "metadata": {
  "celltoolbar": "Raw Cell Format",
  "interpreter": {
   "hash": "24a0a2ddc4dffcb168e507551dd24967ddc40ea2df7a72a200a74e0ae6d88beb"
  },
  "kernelspec": {
   "display_name": "Python 3 (ipykernel)",
   "language": "python",
   "name": "python3"
  },
  "language_info": {
   "codemirror_mode": {
    "name": "ipython",
    "version": 3
   },
   "file_extension": ".py",
   "mimetype": "text/x-python",
   "name": "python",
   "nbconvert_exporter": "python",
   "pygments_lexer": "ipython3",
   "version": "3.9.7"
  }
 },
 "nbformat": 4,
 "nbformat_minor": 2
}
